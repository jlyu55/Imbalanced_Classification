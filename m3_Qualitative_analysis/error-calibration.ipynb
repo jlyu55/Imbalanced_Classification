{
 "cells": [
  {
   "cell_type": "code",
   "execution_count": 1,
   "outputs": [],
   "source": [
    "import numpy as np\n",
    "import scipy as sp\n",
    "from scipy.stats import norm\n",
    "from sklearn.svm import SVC\n",
    "import matplotlib.pyplot as plt\n",
    "from matplotlib.legend_handler import HandlerLine2D\n",
    "from matplotlib.lines import Line2D\n",
    "import matplotlib.patches as mpatches\n",
    "import os\n",
    "import time"
   ],
   "metadata": {
    "collapsed": false,
    "pycharm": {
     "name": "#%%\n"
    }
   }
  },
  {
   "cell_type": "code",
   "execution_count": 2,
   "outputs": [],
   "source": [
    "### Solve the asymptotic parameters\n",
    "\n",
    "from pynverse import inversefunc\n",
    "\n",
    "def g_1(x):\n",
    "    return x * norm.cdf(x) + norm.pdf(x)\n",
    "\n",
    "def g_2(x):\n",
    "    return (x**2 + 1) * norm.cdf(x) + x * norm.pdf(x)\n",
    "\n",
    "def g(x):\n",
    "    return g_2(inversefunc(g_1, x))\n",
    "\n",
    "def g_1_inv(x):\n",
    "    return inversefunc(g_1, x)\n",
    "\n",
    "def sep_eq_sys(theta, args):\n",
    "    rho, beta0, kappa = theta\n",
    "    pi, delta, mu, tau = args\n",
    "    z1 = -rho * mu - beta0 + kappa * tau\n",
    "    z2 = -rho * mu + beta0 + kappa\n",
    "    eq1 = g_1(z1) - rho/(2 * pi * mu * delta)\n",
    "    eq2 = g_1(z2) - rho/(2 * (1-pi) * mu * delta)\n",
    "    eq3 = pi * delta * g_2(z1) + (1-pi) * delta * g_2(z2) - 1 + rho**2\n",
    "    return eq1, eq2, eq3\n",
    "\n",
    "def solve_sep_eq(pi, mu, n=None, d=None, delta=None, tau=1):\n",
    "    if delta is None:\n",
    "        delta = n/d\n",
    "    args = (pi, delta, mu, tau)\n",
    "    # (rho, beta0, kappa)\n",
    "    return sp.optimize.fsolve(lambda theta: sep_eq_sys(theta, args=args), np.zeros(3))\n",
    "\n",
    "def get_tau(beta0, kappa):   # find the optimal tau\n",
    "    return (kappa - beta0)/(kappa + beta0)"
   ],
   "metadata": {
    "collapsed": false,
    "pycharm": {
     "name": "#%%\n"
    }
   }
  },
  {
   "cell_type": "markdown",
   "source": [
    "### Settings\n",
    "\n",
    "$y_i = \\pm 1$,\n",
    "$\\quad \\mathbf{x}_{i} \\,|\\, y_i \\sim \\mathcal{N}( y_i \\boldsymbol\\mu, \\mathbf I_d)$,\n",
    "$\\quad \\boldsymbol\\mu = \\mu \\mathbf{e}_1\n",
    "= (\\mu, 0, \\cdots, 0)^\\top$.\n",
    "\n",
    "Assume $\\mu$ is a fixed constant."
   ],
   "metadata": {
    "collapsed": false
   }
  },
  {
   "cell_type": "code",
   "execution_count": 3,
   "outputs": [],
   "source": [
    "### Simulating data, fitting SVM, calculating accuracy\n",
    "\n",
    "class InfeasibleError(Exception):\n",
    "   \"\"\" Infeasible Problem \"\"\"\n",
    "   pass\n",
    "\n",
    "def sim_data(n, d, pi, mu, sig1=1, sig0=1):\n",
    "    \"\"\" Generate Gaussian Mixture Data \"\"\"\n",
    "    n1 = int(np.ceil(n * pi))\n",
    "    n0 = n - n1\n",
    "    mu1 = np.append(mu, np.zeros(d-1))\n",
    "    mu0 = -mu1\n",
    "    Sig1 = sig1*np.identity(d)\n",
    "    Sig0 = sig0*np.identity(d)\n",
    "    X1 = np.random.multivariate_normal(mean=mu1, cov=Sig1, size=n1)\n",
    "    X0 = np.random.multivariate_normal(mean=mu0, cov=Sig0, size=n0)\n",
    "    X = np.vstack([X1, X0])\n",
    "    y = np.repeat([1, 0], [n1, n0])\n",
    "    return [X, y]\n",
    "\n",
    "def SVM(X, y, C=1, shrinking=True, tol=1e-8, class_weight=None, standard=True):\n",
    "    clf = SVC(C=C, kernel='linear', shrinking=shrinking, tol=tol, class_weight=class_weight)\n",
    "    clf.fit(X, y)\n",
    "    beta = clf.coef_[0]\n",
    "    beta0 = clf.intercept_[0]\n",
    "    kappa = 1\n",
    "    if standard:\n",
    "        beta_norm = np.linalg.norm(beta)\n",
    "        beta, beta0, kappa = beta/beta_norm, beta0/beta_norm, kappa/beta_norm\n",
    "    return [clf, beta, beta0, kappa]\n",
    "\n",
    "def get_accuracy_01(y_pred, y):\n",
    "    ind1 = np.where(y == 1)\n",
    "    ind0 = np.where(y == 0)\n",
    "    res = y - y_pred\n",
    "    # calculate overall, majority, minority, accuracy\n",
    "    acc = np.mean(res == 0)\n",
    "    acc0 = np.mean(res[ind0] == 0)\n",
    "    acc1 = np.mean(res[ind1] == 0)\n",
    "    return [acc, acc0, acc1]\n",
    "\n",
    "### Calculating calibration\n",
    "\n",
    "def sigmoid(x):\n",
    "    if isinstance(x, np.ndarray):\n",
    "        result = np.where(x > 0, 1/(1 + np.exp(-x)), np.exp(x) / (1 + np.exp(x)))\n",
    "        return result\n",
    "    else:\n",
    "        if x > 0:\n",
    "            return 1/(1 + np.exp(-x))\n",
    "        else:\n",
    "            return np.exp(x)/(1 + np.exp(x))\n",
    "\n",
    "def get_cal(X, y, beta, beta0, pi, mu):\n",
    "    ind1 = np.where(y == 1)\n",
    "    ind0 = np.where(y == 0)\n",
    "    p_conf = sigmoid(X @ beta + beta0)\n",
    "    p_Bays = sigmoid(2*X[:,0]*mu + np.log(pi/(1-pi)))\n",
    "    p_post = sigmoid(2*beta[0]*mu*(X @ beta) + np.log(pi/(1-pi)))\n",
    "    MSE_raw = (p_conf - y)**2\n",
    "    CalErr_raw = (p_conf - p_post)**2\n",
    "    ConfErr_raw = (p_conf - p_Bays)**2\n",
    "    MSE = pi*np.mean(MSE_raw[ind1]) + (1-pi)*np.mean(MSE_raw[ind0])\n",
    "    CalErr = pi*np.mean(CalErr_raw[ind1]) + (1-pi)*np.mean(CalErr_raw[ind0])\n",
    "    ConfErr = pi*np.mean(ConfErr_raw[ind1]) + (1-pi)*np.mean(ConfErr_raw[ind0])\n",
    "    return [MSE, CalErr, ConfErr]\n",
    "\n",
    "### Fitting model, calculating result\n",
    "\n",
    "def get_model(pi, n, d, mu, terminate=False):\n",
    "    X_train, y_train = sim_data(n=n, d=d, pi=pi, mu=mu)\n",
    "    md, beta, beta0, kappa = SVM(X_train, y_train, C=1)\n",
    "    # Check linear separability\n",
    "    if np.mean(md.predict(X_train) == y_train) < 1:\n",
    "        if terminate:\n",
    "            raise InfeasibleError(f'Training data is not separable for pi = {pi:.3f}.')\n",
    "        else:\n",
    "            print(f'Training data is not separable for pi = {pi:.3f}.')\n",
    "    # two support vectors in each class\n",
    "    idx_SV = np.array([np.where(y_train[md.support_] == 1)[0][0],\n",
    "                       np.where(y_train[md.support_] == 0)[0][0]])\n",
    "    SV2 = md.support_vectors_[idx_SV, :]\n",
    "    return [md, beta, beta0, kappa, SV2]"
   ],
   "metadata": {
    "collapsed": false,
    "pycharm": {
     "name": "#%%\n"
    }
   }
  },
  {
   "cell_type": "markdown",
   "source": [
    "## Fix $\\delta$, plot against $\\pi$\n",
    "\n",
    "### Fix $\\delta$, plot against $\\pi$, different lines for $\\mu$"
   ],
   "metadata": {
    "collapsed": false
   }
  },
  {
   "cell_type": "code",
   "execution_count": 4,
   "outputs": [],
   "source": [
    "### Simulate data and calculate metrics\n",
    "\n",
    "def sim_pi(pi_arr, mu_arr, n, d, REP=10, n_test=100000, seed=2023, terminate=False):\n",
    "    df = np.zeros((pi_arr.shape[0], (mu_arr.shape[0]), 2, 9))\n",
    "    # 'rho', 'beta_0', 'kappa', 'err_b', 'err_0', 'err_1', 'MSE', 'calErr', 'confErr'\n",
    "    np.random.seed(seed)\n",
    "    for rep_idx in range(REP):\n",
    "        print(f'replicate = {rep_idx + 1}')\n",
    "        for mu_idx, mu in enumerate(mu_arr):\n",
    "            X_test, y_test = sim_data(n=n_test, d=d, pi=0.5, mu=mu)\n",
    "            for pi_idx, pi in enumerate(pi_arr):\n",
    "                md, beta, beta0, kappa, SV2 = get_model(pi=pi, n=n, d=d, mu=mu, terminate=terminate)\n",
    "                df[pi_idx, mu_idx, :, 0] += beta[0]   # rho (same across all tau)\n",
    "                df[pi_idx, mu_idx, 0, 1] += beta0   # beta0\n",
    "                df[pi_idx, mu_idx, 0, 2] += kappa   # kappa\n",
    "                df[pi_idx, mu_idx, 0, 3:6] += get_accuracy_01(md.predict(X_test), y_test)   # acc\n",
    "                df[pi_idx, mu_idx, 0, 6:9] += get_cal(X_test, y_test, beta, beta0, pi, mu)\n",
    "                # margin aware with OPTIMAL tau\n",
    "                tmp_inner = SV2 @ beta\n",
    "                par_oracle = solve_sep_eq(pi=pi, mu=mu, n=n, d=d)\n",
    "                tau = get_tau(beta0=par_oracle[1], kappa=par_oracle[2])\n",
    "                beta0_tau = -np.inner(np.array([1, tau]), tmp_inner)/(1 + tau)\n",
    "                yhat_test = (np.sign(X_test @ beta + beta0_tau) + 1)/2\n",
    "                df[pi_idx, mu_idx, 1, 1] += beta0_tau   # beta0\n",
    "                df[pi_idx, mu_idx, 1, 2] += kappa*2/(1 + tau)   # kappa\n",
    "                df[pi_idx, mu_idx, 1, 3:6] += get_accuracy_01(yhat_test, y_test)   # acc\n",
    "                df[pi_idx, mu_idx, 1, 6:9] += get_cal(X_test, y_test, beta, beta0_tau, pi, mu)\n",
    "    df = df/REP\n",
    "    df[:, :, :, 3:6] = 1 - df[:, :, :, 3:6]   # change accuracy to error\n",
    "    return df\n",
    "\n",
    "BASE_FOLDER = 'delta[fix]-pi[x]-mu'\n",
    "if not os.path.exists(BASE_FOLDER):\n",
    "    os.makedirs(BASE_FOLDER)"
   ],
   "metadata": {
    "collapsed": false,
    "pycharm": {
     "name": "#%%\n"
    }
   }
  },
  {
   "cell_type": "markdown",
   "source": [
    "Parameter settings:"
   ],
   "metadata": {
    "collapsed": false,
    "pycharm": {
     "name": "#%% md\n"
    }
   }
  },
  {
   "cell_type": "code",
   "execution_count": 5,
   "outputs": [],
   "source": [
    "pi_LIST_SIM = np.linspace(0.01, 0.50, 10)\n",
    "mu_LIST = np.array([1.25, 1.50, 1.75])\n",
    "n_SAMPLE_SIZE = 1000\n",
    "d_DIMENSION = 500\n",
    "\n",
    "FOLDER = BASE_FOLDER + f'/delta({n_SAMPLE_SIZE/d_DIMENSION})-pi-mu({mu_LIST})'\n",
    "if not os.path.exists(FOLDER):\n",
    "    os.makedirs(FOLDER)"
   ],
   "metadata": {
    "collapsed": false,
    "pycharm": {
     "name": "#%%\n"
    }
   }
  },
  {
   "cell_type": "code",
   "execution_count": 6,
   "outputs": [],
   "source": [
    "# run and save simulation\n",
    "\n",
    "# start_time = time.time()\n",
    "# df = sim_pi(pi_arr=pi_LIST_SIM, mu_arr=mu_LIST, n=n_SAMPLE_SIZE, d=d_DIMENSION,\n",
    "#             REP=100, n_test=10000, seed=2023, terminate=False)\n",
    "# end_time = time.time()\n",
    "# print(f\"running time: {end_time - start_time:.6f} seconds\")   # 45-50 minutes for 100 replications (REP)\n",
    "# np.save(f'{FOLDER}/df.npy', df)"
   ],
   "metadata": {
    "collapsed": false,
    "pycharm": {
     "name": "#%%\n"
    }
   }
  },
  {
   "cell_type": "code",
   "execution_count": 7,
   "outputs": [],
   "source": [
    "# load simulated data\n",
    "\n",
    "df = np.load(f'{FOLDER}/df.npy')"
   ],
   "metadata": {
    "collapsed": false,
    "pycharm": {
     "name": "#%%\n"
    }
   }
  },
  {
   "cell_type": "code",
   "execution_count": 8,
   "outputs": [],
   "source": [
    "# record parameters\n",
    "\n",
    "import json\n",
    "param = {\n",
    "    'n': n_SAMPLE_SIZE,\n",
    "    'd': d_DIMENSION,\n",
    "    'pi': pi_LIST_SIM.tolist(),\n",
    "    'mu': mu_LIST.tolist(),\n",
    "    'REP': 100,\n",
    "    'n_test': 100000,\n",
    "    'seed': 2023,\n",
    "    'terminate': False\n",
    "}\n",
    "with open(FOLDER + '/param.json', \"w\") as file:\n",
    "    json.dump(param, file)"
   ],
   "metadata": {
    "collapsed": false,
    "pycharm": {
     "name": "#%%\n"
    }
   }
  },
  {
   "cell_type": "code",
   "execution_count": 9,
   "outputs": [],
   "source": [
    "### Testing and calibration errors in theory\n",
    "\n",
    "def Err_minor(rho, beta0, mu):\n",
    "    return norm.cdf(-rho*mu - beta0)\n",
    "\n",
    "def Err_major(rho, beta0, mu):\n",
    "    return norm.cdf(-rho*mu + beta0)\n",
    "\n",
    "def Err_bal(rho, beta0, mu):\n",
    "    return (norm.cdf(-rho*mu - beta0) + norm.cdf(-rho*mu + beta0))/2\n",
    "\n",
    "def MeanSquaredErr(rho, beta0, pi, mu):\n",
    "    rho_mu = rho*mu\n",
    "    tmp1 = norm.expect(lambda G: (sigmoid(+rho_mu + beta0 + G) - 1)**2)\n",
    "    tmp2 = norm.expect(lambda G: (sigmoid(-rho_mu + beta0 + G) - 0)**2)\n",
    "    return pi*tmp1 + (1-pi)*tmp2\n",
    "\n",
    "def CalibrationErr(rho, beta0, pi, mu):\n",
    "    rho_mu = rho*mu\n",
    "    intercept = np.log(pi/(1-pi))\n",
    "    tmp1 = norm.expect(lambda G: (sigmoid(+rho_mu + beta0 + G) - sigmoid(2*rho_mu*(+rho_mu + G) + intercept))**2)\n",
    "    tmp2 = norm.expect(lambda G: (sigmoid(-rho_mu + beta0 + G) - sigmoid(2*rho_mu*(-rho_mu + G) + intercept))**2)\n",
    "    return pi*tmp1 + (1-pi)*tmp2\n",
    "\n",
    "def ConfidenceErr(rho, beta0, pi, mu):\n",
    "    mu2 = mu**2\n",
    "    intercept = np.log(pi/(1-pi))\n",
    "    tmp1 = norm.expect(lambda G: sigmoid(+2*mu2 + 2*mu*G + intercept)*(1 - sigmoid(+2*mu2 + 2*mu*G + intercept)))\n",
    "    tmp2 = norm.expect(lambda G: sigmoid(-2*mu2 + 2*mu*G + intercept)*(1 - sigmoid(-2*mu2 + 2*mu*G + intercept)))\n",
    "    return MeanSquaredErr(rho, beta0, pi, mu) - (pi*tmp1 + (1-pi)*tmp2)"
   ],
   "metadata": {
    "collapsed": false,
    "pycharm": {
     "name": "#%%\n"
    }
   }
  },
  {
   "cell_type": "markdown",
   "source": [
    "Values of $\\pi$ ($x$-axis) used for the plot:"
   ],
   "metadata": {
    "collapsed": false
   }
  },
  {
   "cell_type": "code",
   "execution_count": 10,
   "outputs": [],
   "source": [
    "pi_LIST_plot = np.linspace(np.min(pi_LIST_SIM), np.max(pi_LIST_SIM), 100)"
   ],
   "metadata": {
    "collapsed": false,
    "pycharm": {
     "name": "#%%\n"
    }
   }
  },
  {
   "cell_type": "code",
   "execution_count": 11,
   "outputs": [],
   "source": [
    "def theory_operations(key, rho, beta0, kappa, pi, mu):\n",
    "    operation = {\n",
    "        1: lambda rho, beta0, pi, mu: rho,\n",
    "        2: lambda rho, beta0, pi, mu: beta0,\n",
    "        3: lambda rho, beta0, pi, mu: kappa,\n",
    "        4: lambda rho, beta0, pi, mu: Err_bal(rho, beta0, mu),\n",
    "        5: lambda rho, beta0, pi, mu: Err_major(rho, beta0, mu),\n",
    "        6: lambda rho, beta0, pi, mu: Err_minor(rho, beta0, mu),\n",
    "        7: lambda rho, beta0, pi, mu: MeanSquaredErr(rho, beta0, pi, mu),\n",
    "        8: lambda rho, beta0, pi, mu: CalibrationErr(rho, beta0, pi, mu),\n",
    "        9: lambda rho, beta0, pi, mu: ConfidenceErr(rho, beta0, pi, mu)\n",
    "    }\n",
    "    return operation[key](rho, beta0, pi, mu)\n",
    "\n",
    "title_list_plain = [\n",
    "    'Slope',\n",
    "    'Intercept',\n",
    "    'Margin',\n",
    "    'Balanced Error',\n",
    "    'Majority Error',\n",
    "    'Minority Error',\n",
    "    'Mean Squared Error',\n",
    "    'Calibration Error',\n",
    "    'Confidence Estimation Error'\n",
    "]\n",
    "\n",
    "title_list_latex = [r'$\\textbf{' + x + '}$' for x in title_list_plain]\n",
    "\n",
    "y_label_list = [\n",
    "    r'$\\rho$',\n",
    "    r'$\\beta_0$',\n",
    "    r'$\\kappa$',\n",
    "    r'$\\mathrm{Err}_\\mathrm{b}$',\n",
    "    r'$\\mathrm{Err}_-$',\n",
    "    r'$\\mathrm{Err}_+$',\n",
    "    r'$\\mathrm{MSE}$',\n",
    "    r'$\\mathrm{CalErr}$',\n",
    "    r'$\\mathrm{ConfErr}$'\n",
    "]"
   ],
   "metadata": {
    "collapsed": false,
    "pycharm": {
     "name": "#%%\n"
    }
   }
  },
  {
   "cell_type": "markdown",
   "source": [
    "#### Single plot"
   ],
   "metadata": {
    "collapsed": false
   }
  },
  {
   "cell_type": "code",
   "execution_count": 12,
   "outputs": [],
   "source": [
    "def get_plot(key, sim_data, balanced=True, mu_list=mu_LIST, pi_list_sim=pi_LIST_SIM,\n",
    "             n_sample_size=n_SAMPLE_SIZE, d_dimension=d_DIMENSION,\n",
    "             legend=False, fig_size=(4.5, 4), save=False, save_dir = '', latex=False):\n",
    "    if latex:\n",
    "        plt.rc('text', usetex=True)\n",
    "        plt.rc('font', family='serif')\n",
    "        plt.rc('text.latex', preamble=r'\\usepackage{amsmath}')\n",
    "        title_list = title_list_latex\n",
    "    else:\n",
    "        plt.rc('text', usetex=False)\n",
    "        plt.rc('font', family='sans-serif')\n",
    "        title_list = title_list_plain\n",
    "    with plt.style.context('https://github.com/dhaitz/matplotlib-stylesheets/raw/master/pacoty.mplstyle'):\n",
    "        plt.rcParams['axes.prop_cycle'] = plt.cycler(color=['#5A5B9F', '#F0C05A', '#FF6F61',\n",
    "                                                            '#D94F70', '#009473', '#7BC4C4'])\n",
    "        fig, ax = plt.subplots(nrows=1, ncols=1, figsize=fig_size, dpi=100, constrained_layout=True)\n",
    "        for idx_mu, mu in enumerate(mu_list):\n",
    "            res_array = np.zeros(pi_LIST_plot.shape[0])\n",
    "            for idx_pi, pi in enumerate(pi_LIST_plot):\n",
    "                rho, beta0, kappa = solve_sep_eq(pi=pi, mu=mu, n=n_sample_size, d=d_dimension, tau=1)\n",
    "                if kappa < 0:\n",
    "                    print(\"Non-separable regime\")\n",
    "                if balanced:\n",
    "                    kappa = beta0 + kappa\n",
    "                    beta0 = 0\n",
    "                res_array[idx_pi] = theory_operations(key, rho, beta0, kappa, pi, mu)\n",
    "            ax.plot(pi_LIST_plot, res_array, label=rf'$\\|\\boldsymbol{{\\mu}}\\|_2 = {mu:.2f}$')\n",
    "            if sim_data is not None:\n",
    "                ax.scatter(pi_list_sim, sim_data[:, idx_mu, int(balanced), key-1], marker='x')\n",
    "        ax.set_title(title_list[key-1], fontsize=18)\n",
    "        ax.set_xlabel(r'$\\pi$', fontsize=16)\n",
    "        ax.set_ylabel(y_label_list[key-1], fontsize=16)\n",
    "        ax.tick_params(axis='x', labelsize=14)\n",
    "        ax.tick_params(axis='y', labelsize=14)\n",
    "        # self-defined legend\n",
    "        if legend:\n",
    "            lines = ax.get_lines()\n",
    "            custom_labels = [\n",
    "                Line2D([0], [0], color='black', linestyle='-', label='Theory'),\n",
    "                Line2D([0], [0], color='black', linestyle='', marker='x', label='Simulation')\n",
    "            ]\n",
    "            handles, labels = ax.get_legend_handles_labels()\n",
    "            handles.extend(custom_labels)\n",
    "            labels.extend([line.get_label() for line in custom_labels])\n",
    "            def update_prop(handle, orig):\n",
    "                handle.update_from(orig)\n",
    "                handle.set_marker('x')\n",
    "            ax.legend(handles=handles, labels=labels, fontsize=16,\n",
    "                      handler_map={line: HandlerLine2D(update_func=update_prop) for line in lines})\n",
    "    if save:\n",
    "        plt.savefig(save_dir + f'bal={int(balanced)} [{key}] {title_list_plain[key-1]} vs pi, ' +\n",
    "                    f'n={n_SAMPLE_SIZE}, d={d_DIMENSION}.pdf')\n",
    "        plt.close()\n",
    "    else:\n",
    "        plt.show()\n",
    "    return None"
   ],
   "metadata": {
    "collapsed": false,
    "pycharm": {
     "name": "#%%\n"
    }
   }
  },
  {
   "cell_type": "code",
   "execution_count": 13,
   "outputs": [
    {
     "name": "stdout",
     "output_type": "stream",
     "text": [
      "Figure 1\n",
      "Figure 2\n",
      "Figure 3\n",
      "Figure 4\n",
      "Figure 5\n",
      "Figure 6\n",
      "Figure 7\n",
      "Figure 8\n",
      "Figure 9\n"
     ]
    }
   ],
   "source": [
    "for i in range(1, 10):\n",
    "    print(f'Figure {i}')\n",
    "    get_plot(i, sim_data=df, balanced=False, save=True, legend=i in {4,9} , latex=True, save_dir=FOLDER+'/')"
   ],
   "metadata": {
    "collapsed": false,
    "pycharm": {
     "name": "#%%\n"
    }
   }
  },
  {
   "cell_type": "code",
   "execution_count": 14,
   "outputs": [
    {
     "name": "stdout",
     "output_type": "stream",
     "text": [
      "Figure 1\n",
      "Figure 2\n",
      "Figure 3\n",
      "Figure 4\n",
      "Figure 5\n",
      "Figure 6\n",
      "Figure 7\n",
      "Figure 8\n",
      "Figure 9\n"
     ]
    }
   ],
   "source": [
    "for i in range(1, 10):\n",
    "    print(f'Figure {i}')\n",
    "    get_plot(i, sim_data=df, balanced=True, save=True, legend=i in {4,9} , latex=True, save_dir=FOLDER+'/')"
   ],
   "metadata": {
    "collapsed": false,
    "pycharm": {
     "name": "#%%\n"
    }
   }
  },
  {
   "cell_type": "markdown",
   "source": [
    "#### Merged plot ($\\tau = 1$ and $\\tau = \\tau^\\mathrm{opt}$)"
   ],
   "metadata": {
    "collapsed": false
   }
  },
  {
   "cell_type": "code",
   "execution_count": 15,
   "outputs": [],
   "source": [
    "from matplotlib.legend_handler import HandlerTuple\n",
    "\n",
    "def get_plot_comb(key, sim_data, mu_list=mu_LIST, pi_list_sim=pi_LIST_SIM,\n",
    "                  n_sample_size=n_SAMPLE_SIZE, d_dimension=d_DIMENSION,\n",
    "                  legend=None, fig_size=(4.5, 4), save=False, save_dir = '', latex=False):\n",
    "    if latex:\n",
    "        plt.rc('text', usetex=True)\n",
    "        plt.rc('font', family='serif')\n",
    "        plt.rc('text.latex', preamble=r'\\usepackage{amsmath}')\n",
    "        title_list = title_list_latex\n",
    "    else:\n",
    "        plt.rc('text', usetex=False)\n",
    "        plt.rc('font', family='sans-serif')\n",
    "        title_list = title_list_plain\n",
    "    with plt.style.context('https://github.com/dhaitz/matplotlib-stylesheets/raw/master/pacoty.mplstyle'):\n",
    "        plt.rcParams['axes.prop_cycle'] = plt.cycler(color=['#5A5B9F', '#F0C05A', '#FF6F61',\n",
    "                                                            '#D94F70', '#009473', '#7BC4C4'])\n",
    "        colors = plt.rcParams['axes.prop_cycle'].by_key()['color']\n",
    "        fig, ax = plt.subplots(nrows=1, ncols=1, figsize=fig_size, dpi=100, constrained_layout=True)\n",
    "        for idx_mu, mu in enumerate(mu_list):\n",
    "            res_array = np.zeros((pi_LIST_plot.shape[0], 2))\n",
    "            col = colors[idx_mu % len(colors)]\n",
    "            for idx_pi, pi in enumerate(pi_LIST_plot):\n",
    "                rho, beta0, kappa = solve_sep_eq(pi=pi, mu=mu, n=n_sample_size, d=d_dimension, tau=1)\n",
    "                if kappa < 0:\n",
    "                    print(\"Non-separable regime\")\n",
    "                res_array[idx_pi, 0] = theory_operations(key, rho, beta0, kappa, pi, mu)\n",
    "                res_array[idx_pi, 1] = theory_operations(key, rho, 0, kappa+beta0, pi, mu)\n",
    "            ax.plot(pi_LIST_plot, res_array[:, 0], color=col, linestyle='--')\n",
    "            ax.plot(pi_LIST_plot, res_array[:, 1], color=col)\n",
    "            if sim_data is not None:\n",
    "                ax.scatter(pi_list_sim, sim_data[:, idx_mu, 0, key-1], marker='x', color=col)\n",
    "                ax.scatter(pi_list_sim, sim_data[:, idx_mu, 1, key-1], marker='o', color=col)\n",
    "        ax.set_title(title_list[key-1], fontsize=18)\n",
    "        ax.set_xlabel(r'$\\pi$', fontsize=16)\n",
    "        ax.set_ylabel(y_label_list[key-1], fontsize=16)\n",
    "        ax.tick_params(axis='x', labelsize=14)\n",
    "        ax.tick_params(axis='y', labelsize=14)\n",
    "        ax.set_ylim(0, 1)\n",
    "        # self-defined legend\n",
    "        if legend == 1:\n",
    "            legend_list = [None] * 3\n",
    "            for idx, mu in enumerate(mu_list):\n",
    "                legend_list[idx] = mpatches.Patch(color=colors[idx % len(colors)],\n",
    "                                                  label=rf'$\\|\\boldsymbol{{\\mu}}\\|_2 = {mu:.2f}$')\n",
    "            ax.legend(handles=legend_list, fontsize=16)\n",
    "        elif legend == 2:\n",
    "            l1 = Line2D([0], [0], label=r'$\\tau = 1$', marker='x', linestyle='--', color='k')\n",
    "            l2 = Line2D([0], [0], label=r'$\\tau = \\tau^\\mathrm{opt}$', marker='o', linestyle='-', color='k')\n",
    "            ax.legend(handles=[l1, l2], fontsize=16)\n",
    "        elif legend == 3:\n",
    "            p1, = ax.plot(np.NaN, np.NaN, 'x', color='k')\n",
    "            p2, = ax.plot(np.NaN, np.NaN, 'o', color='k')\n",
    "            l1, = ax.plot(np.NaN, np.NaN, linestyle='--', color='k')\n",
    "            l2, = ax.plot(np.NaN, np.NaN, linestyle='-', color='k')\n",
    "            ax.legend([(p1, p2), (l1, l2)], ['Simulation', 'Theory'], fontsize=16,\n",
    "                      handler_map={tuple: HandlerTuple(ndivide=None)})\n",
    "    if save:\n",
    "        plt.savefig(save_dir + f'[{key}] {title_list_plain[key-1]} vs pi, ' +\n",
    "                    f'n={n_SAMPLE_SIZE}, d={d_DIMENSION}.pdf')\n",
    "        plt.close()\n",
    "    else:\n",
    "        plt.show()\n",
    "    return None"
   ],
   "metadata": {
    "collapsed": false,
    "pycharm": {
     "name": "#%%\n"
    }
   }
  },
  {
   "cell_type": "code",
   "execution_count": 16,
   "outputs": [],
   "source": [
    "get_plot_comb(4, sim_data=df, save=True, legend=1, latex=True, save_dir=FOLDER+'/')\n",
    "get_plot_comb(5, sim_data=df, save=True, legend=2, latex=True, save_dir=FOLDER+'/')\n",
    "get_plot_comb(6, sim_data=df, save=True, legend=3, latex=True, save_dir=FOLDER+'/')"
   ],
   "metadata": {
    "collapsed": false,
    "pycharm": {
     "name": "#%%\n"
    }
   }
  },
  {
   "cell_type": "markdown",
   "source": [
    "#### Quick single plot (without simulation, theoretical lines only)"
   ],
   "metadata": {
    "collapsed": false
   }
  },
  {
   "cell_type": "code",
   "execution_count": 17,
   "outputs": [],
   "source": [
    "def quick_delta_pi_mu(balanced, mu_list, n_sample_size, d_dimension, save=False, latex=True, legends=None):\n",
    "    if legends is None:\n",
    "\t    legends = [4,9]\n",
    "    FOLDER = BASE_FOLDER + f'/delta({n_sample_size/d_dimension})-pi-mu({mu_list})-nosim'\n",
    "    if not os.path.exists(FOLDER):\n",
    "        os.makedirs(FOLDER)\n",
    "    for i in range(1, 10):\n",
    "        get_plot(i, balanced=balanced, sim_data=None, mu_list=mu_list,\n",
    "                 n_sample_size=n_sample_size, d_dimension=d_dimension, legend=i in legends,\n",
    "                 save=save, save_dir=FOLDER + '/', latex=latex)\n",
    "    return None"
   ],
   "metadata": {
    "collapsed": false,
    "pycharm": {
     "name": "#%%\n"
    }
   }
  },
  {
   "cell_type": "code",
   "execution_count": 18,
   "outputs": [],
   "source": [
    "quick_delta_pi_mu(balanced=True, mu_list=mu_LIST, n_sample_size=100, d_dimension=20, save=True)"
   ],
   "metadata": {
    "collapsed": false,
    "pycharm": {
     "name": "#%%\n"
    }
   }
  },
  {
   "cell_type": "code",
   "execution_count": 19,
   "outputs": [],
   "source": [
    "quick_delta_pi_mu(balanced=True, mu_list=2*mu_LIST, n_sample_size=100, d_dimension=100, save=True)"
   ],
   "metadata": {
    "collapsed": false,
    "pycharm": {
     "name": "#%%\n"
    }
   }
  },
  {
   "cell_type": "markdown",
   "source": [
    "## Fix $\\pi, \\delta, \\mu$, plot against $\\tau$\n",
    "\n",
    "### Fix $\\delta, \\mu$, plot against $\\tau$, different lines for $\\pi$"
   ],
   "metadata": {
    "collapsed": false,
    "pycharm": {
     "name": "#%% md\n"
    }
   }
  },
  {
   "cell_type": "code",
   "execution_count": 20,
   "outputs": [],
   "source": [
    "### Simulate data and calculate metrics\n",
    "\n",
    "def sim_tau(pi, mu, tau_arr, tau_list_plot, n=None, d=None, delta=None, REP=10, n_test=100000, seed=2023, terminate=False,\n",
    "            legend=None, fig_size=(4.5, 4), save=False, save_dir = '', latex=False):\n",
    "    inputs = [pi, mu, n, d]\n",
    "    if_array = []\n",
    "    for x in inputs:\n",
    "        try:\n",
    "            if_array.append(int(len(x) > 1))\n",
    "        except TypeError:\n",
    "            if_array.append(0)\n",
    "    if_array = np.array(if_array)\n",
    "    if sum(if_array) != 1:\n",
    "        raise ValueError('Only one of pi, mu, n, d should be an array/list.')\n",
    "    input_name_LaTeX = [r'\\pi', r'\\|\\boldsymbol{{\\mu}}\\|_2', r'n', r'd']\n",
    "    array_id = np.where(if_array == 1)[0][0]   # index of which [pi, mu, n, d] is array\n",
    "    val_legend_list = np.array(inputs[array_id])\n",
    "    params = inputs.copy()\n",
    "    params[array_id] = 0\n",
    "\n",
    "    if n is not None and d is not None and delta is None:\n",
    "        df = np.zeros((val_legend_list.shape[0], (tau_arr.shape[0]), 9))\n",
    "        # 'rho', 'beta_0', 'kappa', 'err_b', 'err_0', 'err_1', 'MSE', 'calErr', 'confErr'\n",
    "        np.random.seed(seed)\n",
    "        for rep_idx in range(REP):\n",
    "            print(f'replicate = {rep_idx + 1}')\n",
    "            for legend_idx, val_legend in enumerate(val_legend_list):\n",
    "                params[array_id] = val_legend\n",
    "                pi, mu, n, d = params\n",
    "                X_test, y_test = sim_data(n=n_test, d=d, pi=0.5, mu=mu)\n",
    "                md, beta, beta0, kappa, SV2 = get_model(pi=pi, n=n, d=d, mu=mu, terminate=terminate)\n",
    "\n",
    "                # margin aware\n",
    "                tmp_inner = SV2 @ beta\n",
    "                for tau_idx, tau in enumerate(tau_arr):\n",
    "                    beta0_tau = -np.inner(np.array([1, tau]), tmp_inner)/(1 + tau)\n",
    "                    yhat_test = (np.sign(X_test @ beta + beta0_tau) + 1)/2\n",
    "                    df[legend_idx, tau_idx, 0] += beta[0]   # rho (same across all tau)\n",
    "                    df[legend_idx, tau_idx, 1] += beta0_tau   # beta0\n",
    "                    df[legend_idx, tau_idx, 2] += kappa   # kappa\n",
    "                    df[legend_idx, tau_idx, 3:6] += get_accuracy_01(yhat_test, y_test)   # acc\n",
    "                    df[legend_idx, tau_idx, 6:9] += get_cal(X_test, y_test, beta, beta0_tau, pi, mu)\n",
    "        df = df/REP\n",
    "        df[:, :, 3:6] = 1 - df[:, :, 3:6]   # change accuracy to error\n",
    "    else:\n",
    "        df = None\n",
    "\n",
    "    if legend is None:\n",
    "        legend = {4, 9}\n",
    "    with plt.style.context('https://github.com/dhaitz/matplotlib-stylesheets/raw/master/pacoty.mplstyle'):\n",
    "        plt.rcParams['axes.prop_cycle'] = plt.cycler(color=['#5A5B9F', '#F0C05A', '#FF6F61',\n",
    "                                                            '#D94F70', '#009473', '#7BC4C4'])\n",
    "        for key in range(4, 7):\n",
    "            print(f'Figure {key}')\n",
    "\n",
    "            if latex:\n",
    "                plt.rc('text', usetex=True)\n",
    "                plt.rc('font', family='serif')\n",
    "                plt.rc('text.latex', preamble=r'\\usepackage{amsmath}')\n",
    "                title_list = title_list_latex\n",
    "            else:\n",
    "                plt.rc('text', usetex=False)\n",
    "                plt.rc('font', family='sans-serif')\n",
    "                title_list = title_list_plain\n",
    "\n",
    "            fig, ax = plt.subplots(nrows=1, ncols=1, figsize=fig_size, dpi=100, constrained_layout=True)\n",
    "            for legend_idx, val_legend in enumerate(val_legend_list):\n",
    "                params[array_id] = val_legend\n",
    "                pi, mu, n, d = params\n",
    "                if delta is None:\n",
    "                    delta = n/d\n",
    "                rho, beta0, kappa = solve_sep_eq(pi=pi, mu=mu, delta=delta, tau=1)\n",
    "                if kappa < 0:\n",
    "                        print(\"Non-separable regime\")\n",
    "                res_array = np.zeros(tau_list_plot.shape[0])\n",
    "                for idx_tau, tau in enumerate(tau_list_plot):\n",
    "                    beta0_tau = beta0 + (tau - 1)/(tau + 1)*kappa\n",
    "                    kappa_tau = kappa + beta0\n",
    "                    res_array[idx_tau] = theory_operations(key, rho, beta0_tau, kappa_tau, pi, mu)\n",
    "                ax.plot(tau_list_plot, res_array, label=rf'${input_name_LaTeX[array_id]} = {val_legend:.2f}$')\n",
    "                if n is not None and d is not None:\n",
    "                    ax.scatter(tau_arr, df[legend_idx, :, key-1], marker='x')\n",
    "            ax.set_title(title_list[key-1], fontsize=18)\n",
    "            ax.set_xlabel(r'$\\tau$', fontsize=16)\n",
    "            ax.set_ylabel(y_label_list[key-1], fontsize=16)\n",
    "            ax.tick_params(axis='x', labelsize=14)\n",
    "            ax.tick_params(axis='y', labelsize=14)\n",
    "            # self-defined legend\n",
    "            if key in legend:\n",
    "                lines = ax.get_lines()\n",
    "                custom_labels = [\n",
    "                    Line2D([0], [0], color='black', linestyle='-', label='Theory'),\n",
    "                    Line2D([0], [0], color='black', linestyle='', marker='x', label='Simulation')\n",
    "                ]\n",
    "                handles, labels = ax.get_legend_handles_labels()\n",
    "                handles.extend(custom_labels)\n",
    "                labels.extend([line.get_label() for line in custom_labels])\n",
    "                def update_prop(handle, orig):\n",
    "                    handle.update_from(orig)\n",
    "                    handle.set_marker('x')\n",
    "                ax.legend(handles=handles, labels=labels, fontsize=16,\n",
    "                          handler_map={line: HandlerLine2D(update_func=update_prop) for line in lines})\n",
    "\n",
    "            if save:\n",
    "                plt.savefig(save_dir + f'[{key}] {title_list_plain[key-1]} vs tau.pdf')\n",
    "                plt.close()\n",
    "            else:\n",
    "                plt.show()\n",
    "    return df\n",
    "\n",
    "BASE_FOLDER = 'delta[fix]-tau[x]-pi'\n",
    "if not os.path.exists(BASE_FOLDER):\n",
    "    os.makedirs(BASE_FOLDER)"
   ],
   "metadata": {
    "collapsed": false,
    "pycharm": {
     "name": "#%%\n"
    }
   }
  },
  {
   "cell_type": "markdown",
   "source": [
    "Parameter settings:"
   ],
   "metadata": {
    "collapsed": false
   }
  },
  {
   "cell_type": "code",
   "execution_count": 21,
   "outputs": [],
   "source": [
    "tau_LIST_SIM = np.linspace(1, 6, 10)\n",
    "pi_LIST = np.array([0.1, 0.15, 0.2])\n",
    "n_SAMPLE_SIZE = 1000\n",
    "d_DIMENSION = 500\n",
    "MU = 2.5\n",
    "\n",
    "FOLDER = BASE_FOLDER + f'/delta({n_SAMPLE_SIZE/d_DIMENSION})-pi({pi_LIST})-mu({MU})'\n",
    "if not os.path.exists(FOLDER):\n",
    "    os.makedirs(FOLDER)"
   ],
   "metadata": {
    "collapsed": false,
    "pycharm": {
     "name": "#%%\n"
    }
   }
  },
  {
   "cell_type": "code",
   "execution_count": 22,
   "outputs": [],
   "source": [
    "# record parameters\n",
    "\n",
    "param = {\n",
    "    'n': n_SAMPLE_SIZE,\n",
    "    'd': d_DIMENSION,\n",
    "    'pi': pi_LIST.tolist(),\n",
    "    'tau': tau_LIST_SIM.tolist(),\n",
    "    'mu': MU,\n",
    "    'REP': 100,\n",
    "    'n_test': 100000,\n",
    "    'seed': 2024,\n",
    "    'terminate': False\n",
    "}\n",
    "with open(FOLDER + '/param.json', \"w\") as file:\n",
    "    json.dump(param, file)"
   ],
   "metadata": {
    "collapsed": false,
    "pycharm": {
     "name": "#%%\n"
    }
   }
  },
  {
   "cell_type": "markdown",
   "source": [
    "Values of $\\tau$ ($x$-axis) used for the plot:"
   ],
   "metadata": {
    "collapsed": false
   }
  },
  {
   "cell_type": "code",
   "execution_count": 23,
   "outputs": [],
   "source": [
    "tau_LIST_plot = np.linspace(1, 6, 100)"
   ],
   "metadata": {
    "collapsed": false,
    "pycharm": {
     "name": "#%%\n"
    }
   }
  },
  {
   "cell_type": "code",
   "execution_count": 24,
   "outputs": [
    {
     "name": "stdout",
     "output_type": "stream",
     "text": [
      "replicate = 1\n",
      "replicate = 2\n",
      "replicate = 3\n",
      "replicate = 4\n",
      "replicate = 5\n",
      "replicate = 6\n",
      "replicate = 7\n",
      "replicate = 8\n",
      "replicate = 9\n",
      "replicate = 10\n",
      "replicate = 11\n",
      "replicate = 12\n",
      "replicate = 13\n",
      "replicate = 14\n",
      "replicate = 15\n",
      "replicate = 16\n",
      "replicate = 17\n",
      "replicate = 18\n",
      "replicate = 19\n",
      "replicate = 20\n",
      "replicate = 21\n",
      "replicate = 22\n",
      "replicate = 23\n",
      "replicate = 24\n",
      "replicate = 25\n",
      "replicate = 26\n",
      "replicate = 27\n",
      "replicate = 28\n",
      "replicate = 29\n",
      "replicate = 30\n",
      "replicate = 31\n",
      "replicate = 32\n",
      "replicate = 33\n",
      "replicate = 34\n",
      "replicate = 35\n",
      "replicate = 36\n",
      "replicate = 37\n",
      "replicate = 38\n",
      "replicate = 39\n",
      "replicate = 40\n",
      "replicate = 41\n",
      "replicate = 42\n",
      "replicate = 43\n",
      "replicate = 44\n",
      "replicate = 45\n",
      "replicate = 46\n",
      "replicate = 47\n",
      "replicate = 48\n",
      "replicate = 49\n",
      "replicate = 50\n",
      "replicate = 51\n",
      "replicate = 52\n",
      "replicate = 53\n",
      "replicate = 54\n",
      "replicate = 55\n",
      "replicate = 56\n",
      "replicate = 57\n",
      "replicate = 58\n",
      "replicate = 59\n",
      "replicate = 60\n",
      "replicate = 61\n",
      "replicate = 62\n",
      "replicate = 63\n",
      "replicate = 64\n",
      "replicate = 65\n",
      "replicate = 66\n",
      "replicate = 67\n",
      "replicate = 68\n",
      "replicate = 69\n",
      "replicate = 70\n",
      "replicate = 71\n",
      "replicate = 72\n",
      "replicate = 73\n",
      "replicate = 74\n",
      "replicate = 75\n",
      "replicate = 76\n",
      "replicate = 77\n",
      "replicate = 78\n",
      "replicate = 79\n",
      "replicate = 80\n",
      "replicate = 81\n",
      "replicate = 82\n",
      "replicate = 83\n",
      "replicate = 84\n",
      "replicate = 85\n",
      "replicate = 86\n",
      "replicate = 87\n",
      "replicate = 88\n",
      "replicate = 89\n",
      "replicate = 90\n",
      "replicate = 91\n",
      "replicate = 92\n",
      "replicate = 93\n",
      "replicate = 94\n",
      "replicate = 95\n",
      "replicate = 96\n",
      "replicate = 97\n",
      "replicate = 98\n",
      "replicate = 99\n",
      "replicate = 100\n",
      "Figure 4\n",
      "Figure 5\n",
      "Figure 6\n",
      "running time: 971.511650 seconds\n"
     ]
    }
   ],
   "source": [
    "# run simulation\n",
    "\n",
    "start_time = time.time()\n",
    "df = sim_tau(pi=pi_LIST, mu=MU, n=n_SAMPLE_SIZE, d=d_DIMENSION,\n",
    "             tau_arr=tau_LIST_SIM, tau_list_plot=tau_LIST_plot,\n",
    "             REP=100, n_test=100000, seed=2024, terminate=False,\n",
    "             legend={4, 9}, fig_size=(4.5, 4), save=True, save_dir=FOLDER+'/', latex=True)\n",
    "end_time = time.time()\n",
    "print(f\"running time: {end_time - start_time:.6f} seconds\")   # 15-20 minutes for 100 replications (REP)"
   ],
   "metadata": {
    "collapsed": false,
    "pycharm": {
     "name": "#%%\n"
    }
   }
  }
 ],
 "metadata": {
  "kernelspec": {
   "display_name": "Python 3",
   "language": "python",
   "name": "python3"
  },
  "language_info": {
   "codemirror_mode": {
    "name": "ipython",
    "version": 2
   },
   "file_extension": ".py",
   "mimetype": "text/x-python",
   "name": "python",
   "nbconvert_exporter": "python",
   "pygments_lexer": "ipython2",
   "version": "2.7.6"
  }
 },
 "nbformat": 4,
 "nbformat_minor": 0
}