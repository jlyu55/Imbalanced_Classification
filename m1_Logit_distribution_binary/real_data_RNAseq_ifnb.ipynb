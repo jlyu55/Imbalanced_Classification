{
 "cells": [
  {
   "cell_type": "code",
   "execution_count": null,
   "outputs": [],
   "source": [
    "!git lfs pull"
   ],
   "metadata": {
    "collapsed": false,
    "pycharm": {
     "name": "#%%\n"
    }
   }
  },
  {
   "cell_type": "code",
   "execution_count": 1,
   "outputs": [],
   "source": [
    "import os\n",
    "import numpy as np\n",
    "import pandas as pd\n",
    "from utils import LR_logit_experiment"
   ],
   "metadata": {
    "collapsed": false,
    "pycharm": {
     "name": "#%%\n"
    }
   }
  },
  {
   "cell_type": "markdown",
   "source": [
    "### RNAseq_ifnb"
   ],
   "metadata": {
    "collapsed": false
   }
  },
  {
   "cell_type": "code",
   "execution_count": 2,
   "outputs": [],
   "source": [
    "# Load Data\n",
    "DATA_DIR = \"../data\"\n",
    "X = pd.read_csv(os.path.join(DATA_DIR, \"ifnb_stimulated_X.txt\"), delimiter=' ').to_numpy()\n",
    "y = pd.read_csv(os.path.join(DATA_DIR, \"ifnb_stimulated_Y.txt\"), delimiter=' ').to_numpy().reshape(-1)\n",
    "save_dir = \"RNAseq_ifnb/\"\n",
    "os.makedirs(save_dir, exist_ok=True)"
   ],
   "metadata": {
    "collapsed": false,
    "pycharm": {
     "name": "#%%\n"
    }
   }
  },
  {
   "cell_type": "code",
   "execution_count": 3,
   "outputs": [
    {
     "name": "stdout",
     "output_type": "stream",
     "text": [
      "(7451, 2000)\n",
      "(7451,)\n"
     ]
    }
   ],
   "source": [
    "# Dimension & Sample size\n",
    "print(X.shape)\n",
    "print(y.shape)"
   ],
   "metadata": {
    "collapsed": false,
    "pycharm": {
     "name": "#%%\n"
    }
   }
  },
  {
   "cell_type": "code",
   "execution_count": 4,
   "outputs": [
    {
     "name": "stdout",
     "output_type": "stream",
     "text": [
      "           Value  Count\n",
      "0              B    571\n",
      "1    B Activated    203\n",
      "2      CD14 Mono   2147\n",
      "3      CD16 Mono    537\n",
      "4   CD4 Memory T    903\n",
      "5    CD4 Naive T   1526\n",
      "6          CD8 T    462\n",
      "7             DC    214\n",
      "8          Eryth     32\n",
      "9             Mk    121\n",
      "10            NK    321\n",
      "11   T activated    333\n",
      "12           pDC     81\n"
     ]
    }
   ],
   "source": [
    "# Re-level all the labels as 0, 1, 2, ...\n",
    "unique_values, counts = np.unique(y, return_counts=True)\n",
    "df = pd.DataFrame({\n",
    "    'Value': unique_values,\n",
    "    'Count': counts\n",
    "})\n",
    "print(df)\n",
    "value_to_number = {value: idx for idx, value in enumerate(unique_values)}\n",
    "y = np.vectorize(value_to_number.get)(y)"
   ],
   "metadata": {
    "collapsed": false,
    "pycharm": {
     "name": "#%%\n"
    }
   }
  },
  {
   "cell_type": "code",
   "execution_count": 5,
   "outputs": [],
   "source": [
    "def get_plot(sub_class_list, pai, random_state, bins0, bins1, save=False):\n",
    "    for idx_run, sub_class in enumerate(sub_class_list):\n",
    "        X_sub = X[np.isin(y, sub_class), :]\n",
    "        y_sub = y[np.isin(y, sub_class)]\n",
    "        # re-level the labels as 0, 1, 2, ...\n",
    "        for i in range(len(sub_class)):\n",
    "            y_sub[y_sub == sub_class[i]] = i\n",
    "            print(f\"Class {sub_class[i]} is assigned as class {i}\")\n",
    "        _ = LR_logit_experiment(X_sub, y_sub, save_dir, pai=pai, random_state=random_state,\n",
    "                                classes=sub_class,\n",
    "                                whitening_rank=0, overlay_fitted_test_Gaussian=True,\n",
    "                                title=rf'\\textbf{{RNAseq_ifnb, class {sub_class[0]} vs class {sub_class[1]}}}',\n",
    "                                save=save, bins0=bins0, bins1=bins1)"
   ],
   "metadata": {
    "collapsed": false,
    "pycharm": {
     "name": "#%%\n"
    }
   }
  },
  {
   "cell_type": "code",
   "execution_count": 6,
   "outputs": [
    {
     "name": "stdout",
     "output_type": "stream",
     "text": [
      "Class 5 is assigned as class 0\n",
      "Class 4 is assigned as class 1\n",
      "Imbalanced training Set: {0: 763, 1: 190}\n",
      "pi = 0.199\n",
      "n = 953\n"
     ]
    },
    {
     "data": {
      "text/plain": "<Figure size 600x400 with 1 Axes>",
      "image/png": "[encoded data removed]"
     },
     "metadata": {},
     "output_type": "display_data"
    }
   ],
   "source": [
    "get_plot(sub_class_list=[[5, 4]], pai=0.2, random_state=2023, bins0=10, bins1=10, save=True)"
   ],
   "metadata": {
    "collapsed": false,
    "pycharm": {
     "name": "#%%\n"
    }
   }
  }
 ],
 "metadata": {
  "kernelspec": {
   "display_name": "Python 3",
   "language": "python",
   "name": "python3"
  },
  "language_info": {
   "codemirror_mode": {
    "name": "ipython",
    "version": 2
   },
   "file_extension": ".py",
   "mimetype": "text/x-python",
   "name": "python",
   "nbconvert_exporter": "python",
   "pygments_lexer": "ipython2",
   "version": "2.7.6"
  }
 },
 "nbformat": 4,
 "nbformat_minor": 0
}