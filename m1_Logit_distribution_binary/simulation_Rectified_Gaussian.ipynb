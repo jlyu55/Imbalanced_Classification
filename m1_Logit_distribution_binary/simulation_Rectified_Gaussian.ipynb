{
 "cells": [
  {
   "cell_type": "code",
   "execution_count": 1,
   "outputs": [],
   "source": [
    "import numpy as np\n",
    "import scipy as sp\n",
    "from scipy.stats import norm\n",
    "import matplotlib.pyplot as plt\n",
    "from sklearn.svm import SVC"
   ],
   "metadata": {
    "collapsed": false,
    "pycharm": {
     "name": "#%%\n"
    }
   }
  },
  {
   "cell_type": "markdown",
   "source": [
    "### Settings\n",
    "\n",
    "$y_i = \\pm 1$,\n",
    "$\\quad \\boldsymbol{x}_{i} \\,|\\, y_i \\sim \\mathcal{N}( y_i \\boldsymbol\\mu, \\mathbf I_d)$,\n",
    "$\\quad \\boldsymbol\\mu = \\mu \\mathbf{e}_1\n",
    "= (\\mu, 0, \\cdots, 0)^\\top$.\n",
    "\n",
    "Assume $\\mu$ is a fixed constant."
   ],
   "metadata": {
    "collapsed": false
   }
  },
  {
   "cell_type": "code",
   "execution_count": 2,
   "outputs": [],
   "source": [
    "class InfeasibleError(Exception):\n",
    "   \"\"\" Infeasible Problem \"\"\"\n",
    "   pass\n",
    "\n",
    "def sim_data(n, d, pi, mu, sig1=1, sig0=1):\n",
    "    \"\"\" Generate Gaussian Mixture Data \"\"\"\n",
    "    n1 = int(np.ceil(n * pi))\n",
    "    n0 = n - n1\n",
    "    mu1 = np.append(mu, np.zeros(d-1))\n",
    "    mu0 = -mu1\n",
    "    Sig1 = sig1*np.identity(d)\n",
    "    Sig0 = sig0*np.identity(d)\n",
    "    X1 = np.random.multivariate_normal(mean=mu1, cov=Sig1, size=n1)\n",
    "    X0 = np.random.multivariate_normal(mean=mu0, cov=Sig0, size=n0)\n",
    "    X = np.vstack([X1, X0])\n",
    "    y = np.repeat([1, 0], [n1, n0])\n",
    "    return [X, y]\n",
    "\n",
    "def SVM(X, y, C=1, shrinking=True, tol=1e-8, class_weight=None, standard=True):\n",
    "    clf = SVC(C=C, kernel='linear', shrinking=shrinking, tol=tol, class_weight=class_weight)\n",
    "    clf.fit(X, y)\n",
    "    beta = clf.coef_[0]\n",
    "    beta0 = clf.intercept_[0]\n",
    "    kappa = 1\n",
    "    if standard:\n",
    "        beta_norm = np.linalg.norm(beta)\n",
    "        beta, beta0, kappa = beta/beta_norm, beta0/beta_norm, kappa/beta_norm\n",
    "    return [clf, beta, beta0, kappa]"
   ],
   "metadata": {
    "collapsed": false,
    "pycharm": {
     "name": "#%%\n"
    }
   }
  },
  {
   "cell_type": "markdown",
   "source": [
    "### Logit distribution\n",
    "\n",
    "Logit is defined as $\\widehat{f}(\\boldsymbol{x}_i) = \\langle \\boldsymbol{x}_i, \\widehat{\\boldsymbol{\\beta}} \\rangle + \\widehat\\beta_0$.\n",
    "\n",
    "#### Separable regime\n",
    "\n",
    "The dataset is linear separable (with high probability), i.e., $\\kappa^* > 0$.\n",
    "\n",
    "- $ y_i \\widehat{f}(\\boldsymbol{x}_i) > 0 $ for all $i$.\n",
    "\n",
    "Let\n",
    "- $\\widehat\\nu_n = \\displaystyle\\frac1n \\sum_{i=1}^n \\delta_{(y_i, \\widehat{f}(\\boldsymbol{x}_i))}$.\n",
    "- $\\nu_* = \\texttt{Law}\\left( Y, Y \\max\\{ \\kappa^*, \\rho^* \\|\\boldsymbol{\\mu}\\|_2 + G + Y \\beta_0^* \\} \\right)$.\n",
    "\n",
    "Then\n",
    "$ W_2 \\left(  \\widehat\\nu_n , \\nu_* \\right) \\to 0$."
   ],
   "metadata": {
    "collapsed": false
   }
  },
  {
   "cell_type": "code",
   "execution_count": 3,
   "outputs": [],
   "source": [
    "def get_model(pi, n, d, mu, terminate=False):\n",
    "    X_train, y_train = sim_data(n=n, d=d, pi=pi, mu=mu)\n",
    "    md, beta, beta0, kappa = SVM(X_train, y_train, C=1)\n",
    "    # Check linear separability\n",
    "    if np.mean(md.predict(X_train) == y_train) < 1:\n",
    "        if terminate:\n",
    "            raise InfeasibleError(f'Training data is not separable for pi = {pi:.3f}.')\n",
    "        else:\n",
    "            print(f'Training data is not separable for pi = {pi:.3f}.')\n",
    "    # two support vectors in each class\n",
    "    idx_SV = np.array([np.where(y_train[md.support_] == 1)[0][0],\n",
    "                       np.where(y_train[md.support_] == 0)[0][0]])\n",
    "    SV2 = md.support_vectors_[idx_SV, :]\n",
    "    return [[X_train, y_train], md, beta, beta0, kappa, SV2]"
   ],
   "metadata": {
    "collapsed": false,
    "pycharm": {
     "name": "#%%\n"
    }
   }
  },
  {
   "cell_type": "markdown",
   "source": [
    "#### Auxiliary functions"
   ],
   "metadata": {
    "collapsed": false
   }
  },
  {
   "cell_type": "markdown",
   "source": [
    "Define\n",
    "$ \\displaystyle g_k(x) = \\mathbb{E}[(G+x)_+^k] = \\int_{-x}^\\infty (t+x)^k \\phi(t) \\, \\mathrm{d} t$.\n",
    "\n",
    "By direct calculation ([reference](https://en.wikipedia.org/wiki/List_of_integrals_of_Gaussian_functions))\n",
    "\n",
    "$$ g_1(x) = x \\Phi(x) + \\phi(x), \\qquad g_2(x) = (x^2+1)\\Phi(x) + x\\phi(x). $$"
   ],
   "metadata": {
    "collapsed": false
   }
  },
  {
   "cell_type": "code",
   "execution_count": 4,
   "outputs": [],
   "source": [
    "from pynverse import inversefunc\n",
    "\n",
    "def g_1(x):\n",
    "    return x * norm.cdf(x) + norm.pdf(x)\n",
    "\n",
    "def g_2(x):\n",
    "    return (x**2 + 1) * norm.cdf(x) + x * norm.pdf(x)\n",
    "\n",
    "def g(x):\n",
    "    return g_2(inversefunc(g_1, x))\n",
    "\n",
    "def g_1_inv(x):\n",
    "    return inversefunc(g_1, x)"
   ],
   "metadata": {
    "collapsed": false,
    "pycharm": {
     "name": "#%%\n"
    }
   }
  },
  {
   "cell_type": "code",
   "execution_count": 5,
   "outputs": [],
   "source": [
    "def gordon_eq_sys(theta, args):\n",
    "    rho, beta0, kappa = theta\n",
    "    pi, delta, mu, tau = args\n",
    "    z1 = -rho * mu - beta0 + kappa * tau\n",
    "    z2 = -rho * mu + beta0 + kappa\n",
    "    eq1 = g_1(z1) - rho/(2 * pi * mu * delta)\n",
    "    eq2 = g_1(z2) - rho/(2 * (1-pi) * mu * delta)\n",
    "    eq3 = pi * delta * g_2(z1) + (1-pi) * delta * g_2(z2) - 1 + rho**2\n",
    "    return eq1, eq2, eq3\n",
    "\n",
    "def solve_gordon_eq(pi, mu, n=None, d=None, delta=None, tau=1):\n",
    "    if delta is None:\n",
    "        delta = n/d\n",
    "    args = (pi, delta, mu, tau)\n",
    "    return sp.optimize.fsolve(lambda theta: gordon_eq_sys(theta, args=args), np.zeros(3))"
   ],
   "metadata": {
    "collapsed": false,
    "pycharm": {
     "name": "#%%\n"
    }
   }
  },
  {
   "cell_type": "markdown",
   "source": [
    "Plot for logit distribution (ELD and TLD)."
   ],
   "metadata": {
    "collapsed": false,
    "pycharm": {
     "name": "#%% md\n"
    }
   }
  },
  {
   "cell_type": "code",
   "execution_count": 6,
   "outputs": [],
   "source": [
    "def logit_plot_sep(pi, n, d, mu, fig_size, binwidth, seed=2023, save=False,\n",
    "                   save_dir=''):\n",
    "    # solve gordon equations\n",
    "    rho, beta0, kappa = solve_gordon_eq(pi=pi, n=n, d=d, mu=mu, tau=1)\n",
    "    if kappa < 0:\n",
    "        raise InfeasibleError(f'Underparametrized regime.')\n",
    "    np.random.seed(seed)\n",
    "    data_train, md, beta, beta0, kappa, SV2 = get_model(pi=pi, n=n, d=d, mu=mu, terminate=True)\n",
    "    X, y = data_train\n",
    "    logit_sign = X @ beta + beta0\n",
    "    logit1 = logit_sign[np.where(y == 1)]\n",
    "    logit0 = logit_sign[np.where(y == 0)]\n",
    "\n",
    "    plt.rc('text', usetex=True)\n",
    "    plt.rc('font', family='serif')\n",
    "    plt.rc('text.latex', preamble=r'\\usepackage{amsmath}')\n",
    "    with plt.style.context('https://github.com/dhaitz/matplotlib-stylesheets/raw/master/pacoty.mplstyle'):\n",
    "        fig, axs = plt.subplots(nrows=1, ncols=1, figsize=fig_size, dpi=100, constrained_layout=True)\n",
    "        fig.suptitle(r'\\textbf{{Logit Distribution}}', fontweight='bold')\n",
    "        cols = ['#5A5B9F', '#D94F70', '#009473', '#F0C05A', '#7BC4C4', '#FF6F61']\n",
    "        bins1 = np.arange(min(logit1), max(logit1) + binwidth, binwidth)\n",
    "        bins0 = np.arange(min(logit0), max(logit0) + binwidth, binwidth)\n",
    "        axs.hist(logit1, density=True, bins=bins1, edgecolor=None, alpha=0.30, color=cols[0],\n",
    "                 label=r'Minority ELD')\n",
    "        axs.hist(logit0, density=True, bins=bins0, edgecolor=None, alpha=0.40, color=cols[3],\n",
    "                 label=r'Majority ELD')\n",
    "\n",
    "        # theoretical density for empirical logits\n",
    "        def get_density(xmin, xmax, loc, **kwargs):\n",
    "            xx = np.linspace(xmin, xmax, 1000)\n",
    "            axs.plot(xx, norm.pdf(xx, loc=loc), **kwargs)\n",
    "            return None\n",
    "\n",
    "        get_density(xmin=kappa, xmax=np.max(logit1), loc=rho*mu+beta0,\n",
    "                    label='Minority TLD', color=cols[0])\n",
    "        get_density(xmin=np.min(logit0), xmax=kappa, loc=rho*mu+beta0, linestyle=':', color=cols[0])\n",
    "        get_density(xmin=np.min(logit0), xmax=-kappa, loc=-rho*mu+beta0,\n",
    "                    label='Majority TLD', color=cols[3])\n",
    "        get_density(xmin=-kappa, xmax=np.max(logit1), loc=-rho*mu+beta0, linestyle=':', color=cols[3])\n",
    "\n",
    "        # decision boundary\n",
    "        axs.axvline(x=0, color='red', linestyle='--', label='Decision boundary')\n",
    "        axs.legend()\n",
    "        axs.set_xlabel(r'logit')\n",
    "        axs.set_ylim(0, 0.8)\n",
    "        arrow_h = 0.5\n",
    "        axs.annotate(text='', xy=( kappa, arrow_h), xytext=(0, arrow_h),\n",
    "                     arrowprops=dict(arrowstyle='<->', shrinkA=0, shrinkB=0))\n",
    "        axs.annotate(text='', xy=(-kappa, arrow_h), xytext=(0, arrow_h),\n",
    "                     arrowprops=dict(arrowstyle='<->', shrinkA=0, shrinkB=0))\n",
    "        axs.annotate(text='margin', xy=(0, arrow_h), xytext=(kappa/2, arrow_h + 0.03),\n",
    "                     ha='center', va='center')\n",
    "    if save:\n",
    "        plt.savefig(save_dir + f'sep_ pi = {pi}, mu = {mu}, n = {n}, d = {d}.pdf')\n",
    "    else:\n",
    "        plt.show()\n",
    "    return None"
   ],
   "metadata": {
    "collapsed": false,
    "pycharm": {
     "name": "#%%\n"
    }
   }
  },
  {
   "cell_type": "code",
   "execution_count": 7,
   "outputs": [
    {
     "data": {
      "text/plain": "<Figure size 600x400 with 1 Axes>",
      "image/png": "[encoded data removed]"
     },
     "metadata": {},
     "output_type": "display_data"
    }
   ],
   "source": [
    "logit_plot_sep(pi=0.15, n=2000*5, d=800*5, mu=1.75, fig_size=(6, 4), binwidth=0.2, save=True, seed=2023)"
   ],
   "metadata": {
    "collapsed": false,
    "pycharm": {
     "name": "#%%\n"
    }
   }
  }
 ],
 "metadata": {
  "kernelspec": {
   "display_name": "Python 3",
   "language": "python",
   "name": "python3"
  },
  "language_info": {
   "codemirror_mode": {
    "name": "ipython",
    "version": 2
   },
   "file_extension": ".py",
   "mimetype": "text/x-python",
   "name": "python",
   "nbconvert_exporter": "python",
   "pygments_lexer": "ipython2",
   "version": "2.7.6"
  }
 },
 "nbformat": 4,
 "nbformat_minor": 0
}